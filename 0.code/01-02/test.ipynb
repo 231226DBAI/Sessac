{
 "cells": [
  {
   "cell_type": "code",
   "execution_count": 4,
   "metadata": {},
   "outputs": [
    {
     "ename": "ValueError",
     "evalue": "int 값만 가능",
     "output_type": "error",
     "traceback": [
      "\u001b[1;31m---------------------------------------------------------------------------\u001b[0m",
      "\u001b[1;31mValueError\u001b[0m                                Traceback (most recent call last)",
      "Cell \u001b[1;32mIn[4], line 8\u001b[0m\n\u001b[0;32m      4\u001b[0m     \u001b[38;5;28;01melse\u001b[39;00m:\n\u001b[0;32m      5\u001b[0m         \u001b[38;5;28;01mraise\u001b[39;00m \u001b[38;5;167;01mValueError\u001b[39;00m(\u001b[38;5;124m'\u001b[39m\u001b[38;5;124mint 값만 가능\u001b[39m\u001b[38;5;124m'\u001b[39m)\n\u001b[1;32m----> 8\u001b[0m \u001b[43ma\u001b[49m\u001b[43m(\u001b[49m\u001b[38;5;124;43m'\u001b[39;49m\u001b[38;5;124;43mstring\u001b[39;49m\u001b[38;5;124;43m'\u001b[39;49m\u001b[43m)\u001b[49m\n",
      "Cell \u001b[1;32mIn[4], line 5\u001b[0m, in \u001b[0;36ma\u001b[1;34m(data)\u001b[0m\n\u001b[0;32m      3\u001b[0m     \u001b[38;5;28mprint\u001b[39m(data)\n\u001b[0;32m      4\u001b[0m \u001b[38;5;28;01melse\u001b[39;00m:\n\u001b[1;32m----> 5\u001b[0m     \u001b[38;5;28;01mraise\u001b[39;00m \u001b[38;5;167;01mValueError\u001b[39;00m(\u001b[38;5;124m'\u001b[39m\u001b[38;5;124mint 값만 가능\u001b[39m\u001b[38;5;124m'\u001b[39m)\n",
      "\u001b[1;31mValueError\u001b[0m: int 값만 가능"
     ]
    }
   ],
   "source": [
    "def a(data:int):\n",
    "    if isinstance(data, int):\n",
    "        print(data)\n",
    "    else:\n",
    "        raise ValueError('int 값만 가능')\n",
    "    \n",
    "\n",
    "a('string')\n"
   ]
  },
  {
   "cell_type": "code",
   "execution_count": 24,
   "metadata": {},
   "outputs": [
    {
     "name": "stdout",
     "output_type": "stream",
     "text": [
      "c:/data 폴더 이미 있음\n",
      "['0102.ipynb']\n"
     ]
    }
   ],
   "source": [
    "#미션 1\n",
    "#작업 1 + 작업 5\n",
    "#이미 있다면 try구문을 이용 하여 예외처리 - 작업3\n",
    "import os\n",
    "def mkdata(folderName,root='c:/data',num=3):\n",
    "    try:\n",
    "        os.mkdir(folderName)\n",
    "\n",
    "    except:\n",
    "        print(f\"{folderName} 폴더 이미 있음\")\n",
    "    print(os.listdir(root)[:num])\n",
    "\n",
    "#작업2\n",
    "def mkresult():\n",
    "    try:\n",
    "        os.mkdir('c:/data/result')\n",
    "        print(\"result 폴더 생성됨\")\n",
    "\n",
    "    except:\n",
    "        print(\"result 폴더 이미 있음\")\n",
    "\n",
    "#작업4\n",
    "def prtlist():        \n",
    "    try:\n",
    "        print(\"아래는 c:/data의 폴더 리스트 목록\")\n",
    "        print(os.listdir('c:/data'))\n",
    "\n",
    "    except:\n",
    "        print(\"data 폴더 없음\")\n",
    "\n",
    "mkdata(\"c:/data\",None,1)\n",
    "\n"
   ]
  },
  {
   "cell_type": "code",
   "execution_count": 28,
   "metadata": {},
   "outputs": [],
   "source": [
    "#!pip install qrcode\n",
    "import qrcode\n",
    "\n",
    "def makeQR(siteadd:str):\n",
    "    try:\n",
    "        myQR = qrcode.make(siteadd)\n",
    "        myQR.save(f\"C:/data/result/{siteadd[8:]}.png\")\n",
    "    except:\n",
    "        pass\n",
    "\n",
    "\n",
    "makeQR('https://naver.com')"
   ]
  },
  {
   "cell_type": "code",
   "execution_count": 29,
   "metadata": {},
   "outputs": [],
   "source": [
    "import qrcode\n",
    "\n",
    "def makeQR(siteList:list, nameList:list):\n",
    "    for i,j in zip(siteList, nameList):\n",
    "        myQR = qrcode.make(i)\n",
    "        myQR.save(f\"C:/data/result/{j}.png\")\n",
    "\n",
    "site = ['https://www.naver.com', 'https://www.daum.net']\n",
    "name = ['네이버', '다음']\n",
    "\n",
    "\n",
    "\n",
    "makeQR(site,name)\n"
   ]
  }
 ],
 "metadata": {
  "kernelspec": {
   "display_name": "openai",
   "language": "python",
   "name": "python3"
  },
  "language_info": {
   "codemirror_mode": {
    "name": "ipython",
    "version": 3
   },
   "file_extension": ".py",
   "mimetype": "text/x-python",
   "name": "python",
   "nbconvert_exporter": "python",
   "pygments_lexer": "ipython3",
   "version": "3.12.0"
  }
 },
 "nbformat": 4,
 "nbformat_minor": 2
}
