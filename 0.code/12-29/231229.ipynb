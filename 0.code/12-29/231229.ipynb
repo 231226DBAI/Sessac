{
 "cells": [
  {
   "cell_type": "code",
   "execution_count": 186,
   "metadata": {},
   "outputs": [
    {
     "data": {
      "text/plain": [
       "400.038"
      ]
     },
     "execution_count": 186,
     "metadata": {},
     "output_type": "execute_result"
    }
   ],
   "source": [
    "#from file명 impot *\n",
    "\n",
    "\n",
    "\n",
    "\n",
    "\n",
    "class counter():\n",
    "   \n",
    "    def a(self,length):\n",
    "        length=2*length+0.001*self.temp+0.0003*self.hum\n",
    "        return length\n",
    "    \n",
    "\n",
    "    def __init__(self,temperature,hum) :\n",
    "        self.temp=temperature\n",
    "        self.hum=hum    \n",
    "\n",
    "c = counter(25,75)\n",
    "\n",
    "c.a(200)\n",
    "\n",
    "d = counter(26,40)\n",
    "\n",
    "d.a(200)\n",
    "\n",
    "\n"
   ]
  },
  {
   "cell_type": "code",
   "execution_count": 181,
   "metadata": {},
   "outputs": [
    {
     "name": "stdout",
     "output_type": "stream",
     "text": [
      "기존 a변수의 타입은 <class 'str'>\n",
      "['1', ',', '2', ',', '2', ',', '2', ',', '2', ',']\n",
      "a변수의 type이 <class 'list'> 로 변경되었슴다\n",
      "a의 첫번째 인덱스가 100 로 변경되었슴다\n"
     ]
    }
   ],
   "source": [
    "a=\"1,2,2,2,2,\"\n",
    "\n",
    "print(\"기존 a변수의 타입은\", type(a))\n",
    "\n",
    "if type(a) == str:\n",
    "    a= list(a)\n",
    "    print(a)\n",
    "    a[0] = 100\n",
    "    print(\"a변수의 type이\",type(a),\"로 변경되었슴다\")\n",
    "\n",
    "    print(\"a의 첫번째 인덱스가\", a[0], \"로 변경되었슴다\")\n",
    "\n",
    "else:\n",
    "    print(\"xxx\")"
   ]
  },
  {
   "cell_type": "code",
   "execution_count": 188,
   "metadata": {},
   "outputs": [
    {
     "ename": "IndentationError",
     "evalue": "expected an indented block after function definition on line 2 (3334757104.py, line 4)",
     "output_type": "error",
     "traceback": [
      "\u001b[1;36m  Cell \u001b[1;32mIn[188], line 4\u001b[1;36m\u001b[0m\n\u001b[1;33m    def plus(x,y):\u001b[0m\n\u001b[1;37m    ^\u001b[0m\n\u001b[1;31mIndentationError\u001b[0m\u001b[1;31m:\u001b[0m expected an indented block after function definition on line 2\n"
     ]
    }
   ],
   "source": [
    "class Calculator():\n",
    "    def __init__(self):\n",
    "        pass\n",
    "    def plus(self,x,y):\n",
    "        return x+y\n",
    "    def minus(self,x,y):\n",
    "        return x-y\n",
    "    \n",
    "Calculator.plus(1,2)"
   ]
  },
  {
   "cell_type": "code",
   "execution_count": 190,
   "metadata": {},
   "outputs": [
    {
     "name": "stderr",
     "output_type": "stream",
     "text": [
      "Cloning into 'Lets-get-it-Python-Lecture'...\n"
     ]
    }
   ],
   "source": [
    "!git clone https://github.com/teacher-jiejie/Lets-get-it-Python-Lecture.git"
   ]
  },
  {
   "cell_type": "code",
   "execution_count": null,
   "metadata": {},
   "outputs": [],
   "source": [
    "class BookManager():\n",
    "    def __init__(self,bookname):\n",
    "        self.bn = bookname\n",
    "        \n",
    "\n",
    "    def add_book(x):\n"
   ]
  },
  {
   "cell_type": "code",
   "execution_count": 3,
   "metadata": {},
   "outputs": [
    {
     "data": {
      "text/plain": [
       "(['231229.ipynb', 'card.csv', 'food.png', 'pygame.ipynb', 'snake.png'],\n",
       " ['231229.ipynb', 'card.csv', 'food.png', 'pygame.ipynb', 'snake.png'],\n",
       " ['.\\\\231229.ipynb',\n",
       "  '.\\\\card.csv',\n",
       "  '.\\\\food.png',\n",
       "  '.\\\\pygame.ipynb',\n",
       "  '.\\\\snake.png'])"
      ]
     },
     "execution_count": 3,
     "metadata": {},
     "output_type": "execute_result"
    }
   ],
   "source": [
    "import os\n",
    "from glob import glob\n",
    "\n",
    "\n",
    "#경로 없이        경로 없이   경로 포함\n",
    "os.listdir('.'), glob('*'), glob('./*')"
   ]
  },
  {
   "cell_type": "code",
   "execution_count": 20,
   "metadata": {},
   "outputs": [],
   "source": [
    "####### index 함수화\n",
    "\n",
    "\n",
    "file_name = 'card.csv'\n",
    "\n",
    "def filecheck(file_name):\n",
    "    chp =  0\n",
    "    for i in os.listdir('.'):\n",
    "        if i == file_name:\n",
    "            print(\"card.csv -> file 있음\")\n",
    "            chp = 1\n",
    "            break\n",
    "\n",
    "    if chp == 0:\n",
    "        print(\"File 없음\")\n",
    "    return 0\n",
    "\n",
    "\n"
   ]
  },
  {
   "cell_type": "code",
   "execution_count": 6,
   "metadata": {},
   "outputs": [],
   "source": [
    "import csv\n",
    "\n",
    "\n",
    "\n",
    "file_name = 'card.csv'\n",
    "f= open(file_name)\n",
    "data = csv.reader(f)\n",
    "\n",
    "\n",
    "#next(data)  #data의 첫번째 자료를 지남 -> \n",
    "data_list=list(data)\n",
    "\n",
    "title = data[0]\n",
    "\n",
    "aim_data = data[1:4]\n",
    "\n",
    "num= title.index('이용금액')\n",
    "\n"
   ]
  },
  {
   "cell_type": "code",
   "execution_count": 98,
   "metadata": {},
   "outputs": [],
   "source": []
  },
  {
   "cell_type": "code",
   "execution_count": 4,
   "metadata": {},
   "outputs": [
    {
     "data": {
      "text/plain": [
       "[<matplotlib.lines.Line2D at 0x1ed778e12b0>]"
      ]
     },
     "execution_count": 4,
     "metadata": {},
     "output_type": "execute_result"
    },
    {
     "data": {
      "image/png": "[encoded data removed]",
      "text/plain": [
       "<Figure size 640x480 with 1 Axes>"
      ]
     },
     "metadata": {},
     "output_type": "display_data"
    }
   ],
   "source": [
    "import matplotlib.pyplot as plt\n",
    "\n",
    "sale_list = []\n",
    "\n",
    "for row in data:\n",
    "    if row[-1] == '전표매입':\n",
    "        sale_list.append(int(row[6]))\n",
    "\n",
    "\n",
    "plt.plot(sale_list,'o')"
   ]
  }
 ],
 "metadata": {
  "kernelspec": {
   "display_name": "openai",
   "language": "python",
   "name": "python3"
  },
  "language_info": {
   "codemirror_mode": {
    "name": "ipython",
    "version": 3
   },
   "file_extension": ".py",
   "mimetype": "text/x-python",
   "name": "python",
   "nbconvert_exporter": "python",
   "pygments_lexer": "ipython3",
   "version": "3.12.0"
  }
 },
 "nbformat": 4,
 "nbformat_minor": 2
}
