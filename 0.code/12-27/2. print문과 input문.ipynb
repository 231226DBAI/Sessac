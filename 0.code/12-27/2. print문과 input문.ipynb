{
 "cells": [
  {
   "cell_type": "code",
   "execution_count": null,
   "metadata": {},
   "outputs": [],
   "source": []
  },
  {
   "cell_type": "markdown",
   "metadata": {},
   "source": [
    "## [1] print함수"
   ]
  },
  {
   "cell_type": "markdown",
   "metadata": {},
   "source": [
    "### [1-1] 파이썬 print (p52~p62)\n",
    "- print함수에 대한 옵션을 확인합니다.\n",
    "- help(print)로 print 함수에 대한 옵션을 확인합니다. 또는 vs코드에서는 print 에서 F12키로 함수를 확인합니다.\n"
   ]
  },
  {
   "cell_type": "code",
   "execution_count": null,
   "metadata": {},
   "outputs": [],
   "source": []
  },
  {
   "cell_type": "markdown",
   "metadata": {},
   "source": [
    "### [1-2] 파이썬 print format문 (교재 p84)\n",
    "- 아래사이트에서 format문을 실습하여 봅니다.\n",
    "    - https://planharry.tistory.com/11\n",
    "- ChatGPT에서 다음과 같이 검색하여 print문을 학습하여 봅니다.\n",
    "    - 파이썬 format문 샘플\n",
    "    - print %"
   ]
  },
  {
   "cell_type": "code",
   "execution_count": 3,
   "metadata": {},
   "outputs": [
    {
     "name": "stdout",
     "output_type": "stream",
     "text": [
      "{'__name__': '__main__', '__doc__': 'Automatically created module for IPython interactive environment', '__package__': None, '__loader__': None, '__spec__': None, '__builtin__': <module 'builtins' (built-in)>, '__builtins__': <module 'builtins' (built-in)>, '_ih': ['', 'a=3\\nb=4.0\\n#print(\"곱셈 결과 {}*{} = {}\" .format(a,b,a*b))\\n#print(\"곱셈 결과 %d*%0.2f = %0.2f\" %(a,b,a*b))\\n\\nimport psutil\\npsutil.virtual_memory()\\n\\nimport tracemalloc\\n\\ntracemalloc.start()\\n\\n# ... 여러분의 응용 프로그램을 실행합니다 ...\\n\\nsnapshot = tracemalloc.take_snapshot()\\ntop_stats = snapshot.statistics(\\'lineno\\')\\n\\nprint(\"[ Top 10 ]\")\\nfor stat in top_stats[:10]:\\n    print(stat)', 'a=3\\nb=4.0\\n#print(\"곱셈 결과 {}*{} = {}\" .format(a,b,a*b))\\n#print(\"곱셈 결과 %d*%0.2f = %0.2f\" %(a,b,a*b))\\n\\nprint (globals())\\n\\n\\n\\n\\'\\'\\'\\nimport psutil\\npsutil.virtual_memory()\\n\\nimport tracemalloc\\n\\ntracemalloc.start()\\n\\n# ... 여러분의 응용 프로그램을 실행합니다 ...\\n\\nsnapshot = tracemalloc.take_snapshot()\\ntop_stats = snapshot.statistics(\\'lineno\\')\\n\\nprint(\"[ Top 10 ]\")\\nfor stat in top_stats[:10]:\\n    print(stat)\\n\\'\\'\\'', 'a=3\\nb=4.0\\n#print(\"곱셈 결과 {}*{} = {}\" .format(a,b,a*b))\\n#print(\"곱셈 결과 %d*%0.2f = %0.2f\" %(a,b,a*b))\\n\\nprint (globals())\\n\\n\\n\\n\\'\\'\\'\\nimport psutil\\npsutil.virtual_memory()\\n\\nimport tracemalloc\\n\\ntracemalloc.start()\\n\\n# ... 여러분의 응용 프로그램을 실행합니다 ...\\n\\nsnapshot = tracemalloc.take_snapshot()\\ntop_stats = snapshot.statistics(\\'lineno\\')\\n\\nprint(\"[ Top 10 ]\")\\nfor stat in top_stats[:10]:\\n    print(stat)\\n\\'\\'\\''], '_oh': {2: '\\nimport psutil\\npsutil.virtual_memory()\\n\\nimport tracemalloc\\n\\ntracemalloc.start()\\n\\n# ... 여러분의 응용 프로그램을 실행합니다 ...\\n\\nsnapshot = tracemalloc.take_snapshot()\\ntop_stats = snapshot.statistics(\\'lineno\\')\\n\\nprint(\"[ Top 10 ]\")\\nfor stat in top_stats[:10]:\\n    print(stat)\\n'}, '_dh': [WindowsPath('c:/Users/bluecom013/Downloads/12-27/12-27'), WindowsPath('c:/Users/bluecom013/Downloads/12-27/12-27')], 'In': ['', 'a=3\\nb=4.0\\n#print(\"곱셈 결과 {}*{} = {}\" .format(a,b,a*b))\\n#print(\"곱셈 결과 %d*%0.2f = %0.2f\" %(a,b,a*b))\\n\\nimport psutil\\npsutil.virtual_memory()\\n\\nimport tracemalloc\\n\\ntracemalloc.start()\\n\\n# ... 여러분의 응용 프로그램을 실행합니다 ...\\n\\nsnapshot = tracemalloc.take_snapshot()\\ntop_stats = snapshot.statistics(\\'lineno\\')\\n\\nprint(\"[ Top 10 ]\")\\nfor stat in top_stats[:10]:\\n    print(stat)', 'a=3\\nb=4.0\\n#print(\"곱셈 결과 {}*{} = {}\" .format(a,b,a*b))\\n#print(\"곱셈 결과 %d*%0.2f = %0.2f\" %(a,b,a*b))\\n\\nprint (globals())\\n\\n\\n\\n\\'\\'\\'\\nimport psutil\\npsutil.virtual_memory()\\n\\nimport tracemalloc\\n\\ntracemalloc.start()\\n\\n# ... 여러분의 응용 프로그램을 실행합니다 ...\\n\\nsnapshot = tracemalloc.take_snapshot()\\ntop_stats = snapshot.statistics(\\'lineno\\')\\n\\nprint(\"[ Top 10 ]\")\\nfor stat in top_stats[:10]:\\n    print(stat)\\n\\'\\'\\'', 'a=3\\nb=4.0\\n#print(\"곱셈 결과 {}*{} = {}\" .format(a,b,a*b))\\n#print(\"곱셈 결과 %d*%0.2f = %0.2f\" %(a,b,a*b))\\n\\nprint (globals())\\n\\n\\n\\n\\'\\'\\'\\nimport psutil\\npsutil.virtual_memory()\\n\\nimport tracemalloc\\n\\ntracemalloc.start()\\n\\n# ... 여러분의 응용 프로그램을 실행합니다 ...\\n\\nsnapshot = tracemalloc.take_snapshot()\\ntop_stats = snapshot.statistics(\\'lineno\\')\\n\\nprint(\"[ Top 10 ]\")\\nfor stat in top_stats[:10]:\\n    print(stat)\\n\\'\\'\\''], 'Out': {2: '\\nimport psutil\\npsutil.virtual_memory()\\n\\nimport tracemalloc\\n\\ntracemalloc.start()\\n\\n# ... 여러분의 응용 프로그램을 실행합니다 ...\\n\\nsnapshot = tracemalloc.take_snapshot()\\ntop_stats = snapshot.statistics(\\'lineno\\')\\n\\nprint(\"[ Top 10 ]\")\\nfor stat in top_stats[:10]:\\n    print(stat)\\n'}, 'get_ipython': <bound method InteractiveShell.get_ipython of <ipykernel.zmqshell.ZMQInteractiveShell object at 0x0000022BB7868E00>>, 'exit': <IPython.core.autocall.ZMQExitAutocall object at 0x0000022BB7868320>, 'quit': <IPython.core.autocall.ZMQExitAutocall object at 0x0000022BB7868320>, 'open': <function open at 0x0000022BB590E980>, '_': '\\nimport psutil\\npsutil.virtual_memory()\\n\\nimport tracemalloc\\n\\ntracemalloc.start()\\n\\n# ... 여러분의 응용 프로그램을 실행합니다 ...\\n\\nsnapshot = tracemalloc.take_snapshot()\\ntop_stats = snapshot.statistics(\\'lineno\\')\\n\\nprint(\"[ Top 10 ]\")\\nfor stat in top_stats[:10]:\\n    print(stat)\\n', '__': '', '___': '', '__vsc_ipynb_file__': 'c:\\\\Users\\\\bluecom013\\\\Downloads\\\\12-27\\\\12-27\\\\2. print문과 input문.ipynb', '_i': 'a=3\\nb=4.0\\n#print(\"곱셈 결과 {}*{} = {}\" .format(a,b,a*b))\\n#print(\"곱셈 결과 %d*%0.2f = %0.2f\" %(a,b,a*b))\\n\\nprint (globals())\\n\\n\\n\\n\\'\\'\\'\\nimport psutil\\npsutil.virtual_memory()\\n\\nimport tracemalloc\\n\\ntracemalloc.start()\\n\\n# ... 여러분의 응용 프로그램을 실행합니다 ...\\n\\nsnapshot = tracemalloc.take_snapshot()\\ntop_stats = snapshot.statistics(\\'lineno\\')\\n\\nprint(\"[ Top 10 ]\")\\nfor stat in top_stats[:10]:\\n    print(stat)\\n\\'\\'\\'', '_ii': 'a=3\\nb=4.0\\n#print(\"곱셈 결과 {}*{} = {}\" .format(a,b,a*b))\\n#print(\"곱셈 결과 %d*%0.2f = %0.2f\" %(a,b,a*b))\\n\\nimport psutil\\npsutil.virtual_memory()\\n\\nimport tracemalloc\\n\\ntracemalloc.start()\\n\\n# ... 여러분의 응용 프로그램을 실행합니다 ...\\n\\nsnapshot = tracemalloc.take_snapshot()\\ntop_stats = snapshot.statistics(\\'lineno\\')\\n\\nprint(\"[ Top 10 ]\")\\nfor stat in top_stats[:10]:\\n    print(stat)', '_iii': '', '_i1': 'a=3\\nb=4.0\\n#print(\"곱셈 결과 {}*{} = {}\" .format(a,b,a*b))\\n#print(\"곱셈 결과 %d*%0.2f = %0.2f\" %(a,b,a*b))\\n\\nimport psutil\\npsutil.virtual_memory()\\n\\nimport tracemalloc\\n\\ntracemalloc.start()\\n\\n# ... 여러분의 응용 프로그램을 실행합니다 ...\\n\\nsnapshot = tracemalloc.take_snapshot()\\ntop_stats = snapshot.statistics(\\'lineno\\')\\n\\nprint(\"[ Top 10 ]\")\\nfor stat in top_stats[:10]:\\n    print(stat)', 'a': 3, 'b': 4.0, 'psutil': <module 'psutil' from 'c:\\\\Users\\\\bluecom013\\\\miniconda3\\\\envs\\\\openai\\\\Lib\\\\site-packages\\\\psutil\\\\__init__.py'>, 'tracemalloc': <module 'tracemalloc' from 'c:\\\\Users\\\\bluecom013\\\\miniconda3\\\\envs\\\\openai\\\\Lib\\\\tracemalloc.py'>, 'snapshot': <tracemalloc.Snapshot object at 0x0000022BB78D50A0>, 'top_stats': [<Statistic traceback=<Traceback (<Frame filename='c:\\\\Users\\\\bluecom013\\\\miniconda3\\\\envs\\\\openai\\\\Lib\\\\site-packages\\\\IPython\\\\core\\\\interactiveshell.py' lineno=3493>,)> size=296 count=1>, <Statistic traceback=<Traceback (<Frame filename='c:\\\\Users\\\\bluecom013\\\\miniconda3\\\\envs\\\\openai\\\\Lib\\\\codeop.py' lineno=118>,)> size=286 count=2>, <Statistic traceback=<Traceback (<Frame filename='c:\\\\Users\\\\bluecom013\\\\miniconda3\\\\envs\\\\openai\\\\Lib\\\\site-packages\\\\IPython\\\\core\\\\interactiveshell.py' lineno=3553>,)> size=160 count=1>, <Statistic traceback=<Traceback (<Frame filename='c:\\\\Users\\\\bluecom013\\\\miniconda3\\\\envs\\\\openai\\\\Lib\\\\tracemalloc.py' lineno=551>,)> size=72 count=1>, <Statistic traceback=<Traceback (<Frame filename='C:\\\\Users\\\\bluecom013\\\\AppData\\\\Local\\\\Temp\\\\ipykernel_3416\\\\1638958666.py' lineno=0>,)> size=72 count=1>, <Statistic traceback=<Traceback (<Frame filename='c:\\\\Users\\\\bluecom013\\\\miniconda3\\\\envs\\\\openai\\\\Lib\\\\site-packages\\\\IPython\\\\core\\\\interactiveshell.py' lineno=3483>,)> size=64 count=2>, <Statistic traceback=<Traceback (<Frame filename='c:\\\\Users\\\\bluecom013\\\\miniconda3\\\\envs\\\\openai\\\\Lib\\\\site-packages\\\\IPython\\\\core\\\\interactiveshell.py' lineno=3542>,)> size=64 count=1>, <Statistic traceback=<Traceback (<Frame filename='c:\\\\Users\\\\bluecom013\\\\miniconda3\\\\envs\\\\openai\\\\Lib\\\\site-packages\\\\IPython\\\\core\\\\compilerop.py' lineno=192>,)> size=32 count=1>], 'stat': <Statistic traceback=<Traceback (<Frame filename='c:\\\\Users\\\\bluecom013\\\\miniconda3\\\\envs\\\\openai\\\\Lib\\\\site-packages\\\\IPython\\\\core\\\\compilerop.py' lineno=192>,)> size=32 count=1>, '_i2': 'a=3\\nb=4.0\\n#print(\"곱셈 결과 {}*{} = {}\" .format(a,b,a*b))\\n#print(\"곱셈 결과 %d*%0.2f = %0.2f\" %(a,b,a*b))\\n\\nprint (globals())\\n\\n\\n\\n\\'\\'\\'\\nimport psutil\\npsutil.virtual_memory()\\n\\nimport tracemalloc\\n\\ntracemalloc.start()\\n\\n# ... 여러분의 응용 프로그램을 실행합니다 ...\\n\\nsnapshot = tracemalloc.take_snapshot()\\ntop_stats = snapshot.statistics(\\'lineno\\')\\n\\nprint(\"[ Top 10 ]\")\\nfor stat in top_stats[:10]:\\n    print(stat)\\n\\'\\'\\'', '_2': '\\nimport psutil\\npsutil.virtual_memory()\\n\\nimport tracemalloc\\n\\ntracemalloc.start()\\n\\n# ... 여러분의 응용 프로그램을 실행합니다 ...\\n\\nsnapshot = tracemalloc.take_snapshot()\\ntop_stats = snapshot.statistics(\\'lineno\\')\\n\\nprint(\"[ Top 10 ]\")\\nfor stat in top_stats[:10]:\\n    print(stat)\\n', '_i3': 'a=3\\nb=4.0\\n#print(\"곱셈 결과 {}*{} = {}\" .format(a,b,a*b))\\n#print(\"곱셈 결과 %d*%0.2f = %0.2f\" %(a,b,a*b))\\n\\nprint (globals())\\n\\n\\n\\n\\'\\'\\'\\nimport psutil\\npsutil.virtual_memory()\\n\\nimport tracemalloc\\n\\ntracemalloc.start()\\n\\n# ... 여러분의 응용 프로그램을 실행합니다 ...\\n\\nsnapshot = tracemalloc.take_snapshot()\\ntop_stats = snapshot.statistics(\\'lineno\\')\\n\\nprint(\"[ Top 10 ]\")\\nfor stat in top_stats[:10]:\\n    print(stat)\\n\\'\\'\\''}\n"
     ]
    },
    {
     "data": {
      "text/plain": [
       "'\\nimport psutil\\npsutil.virtual_memory()\\n\\nimport tracemalloc\\n\\ntracemalloc.start()\\n\\n# ... 여러분의 응용 프로그램을 실행합니다 ...\\n\\nsnapshot = tracemalloc.take_snapshot()\\ntop_stats = snapshot.statistics(\\'lineno\\')\\n\\nprint(\"[ Top 10 ]\")\\nfor stat in top_stats[:10]:\\n    print(stat)\\n'"
      ]
     },
     "execution_count": 3,
     "metadata": {},
     "output_type": "execute_result"
    }
   ],
   "source": [
    "a=3\n",
    "b=4.0\n",
    "#print(\"곱셈 결과 {}*{} = {}\" .format(a,b,a*b))\n",
    "#print(\"곱셈 결과 %d*%0.2f = %0.2f\" %(a,b,a*b))\n",
    "\n",
    "print (globals())\n",
    "\n",
    "\n",
    "\n",
    "'''\n",
    "import psutil\n",
    "psutil.virtual_memory()\n",
    "\n",
    "import tracemalloc\n",
    "\n",
    "tracemalloc.start()\n",
    "\n",
    "# ... 여러분의 응용 프로그램을 실행합니다 ...\n",
    "\n",
    "snapshot = tracemalloc.take_snapshot()\n",
    "top_stats = snapshot.statistics('lineno')\n",
    "\n",
    "print(\"[ Top 10 ]\")\n",
    "for stat in top_stats[:10]:\n",
    "    print(stat)\n",
    "'''"
   ]
  },
  {
   "cell_type": "code",
   "execution_count": 4,
   "metadata": {},
   "outputs": [
    {
     "name": "stdout",
     "output_type": "stream",
     "text": [
      "<class 'str'>\n"
     ]
    }
   ],
   "source": [
    "def PT(x):\n",
    "    print('입력한 값 {}의 tpye 은 {} 입니다. '.format(x,type(x))\n",
    "\n",
    "\n",
    "val = input()\n",
    "PT(val)"
   ]
  },
  {
   "cell_type": "markdown",
   "metadata": {},
   "source": [
    "## [2] input"
   ]
  },
  {
   "cell_type": "markdown",
   "metadata": {},
   "source": [
    "### [2-1] 파이썬 input (p63~p76)\n",
    "- 교재의 input명령어를 확인하여 봅니다.\n",
    "- input함수에서 프로그래머의 오류가 아닌 사용자의 에러 처리를 위한 예외처리를 지정하는 것이 좋습니다.\n",
    "    - 예외 처리: 사용자 입력 과정에서 예외가 발생할 수 있습니다. 예를 들어, 사용자가 예상치 못한 종류의 입력을 하는 경우, 프로그램은 예외를 발생시키고 중단될 수 있습니다. \n",
    "    - try-except 블록을 사용하여 이러한 예외를 처리하는 것이 좋습니다.\n",
    "        - try:\n",
    "            - 실행할 코드\n",
    "        - except:\n",
    "            - 예외가 발생했을 때 처리하는 코드"
   ]
  },
  {
   "cell_type": "code",
   "execution_count": 17,
   "metadata": {},
   "outputs": [
    {
     "name": "stdout",
     "output_type": "stream",
     "text": [
      "숫자값 1-9를 확인하세요\n"
     ]
    }
   ],
   "source": [
    "\n",
    "try:\n",
    "    x=int(input('1-9까지의 수입력'))\n",
    "    print(x*5)\n",
    "except:\n",
    "    print('숫자값 1-9를 확인하세요')"
   ]
  },
  {
   "cell_type": "markdown",
   "metadata": {},
   "source": [
    "### [2-2] 파이썬 input 외부자료 활용하기\n",
    "- userinfo.csv에 id명 a,b,c 와 password 1,2,3 이 입력되어 있을때 매칭되어야 다음명령어로 넘어갈수 있게하기\n",
    "    - chatGPT검색 '파이썬 csv 자료 읽기'\n"
   ]
  },
  {
   "cell_type": "code",
   "execution_count": 19,
   "metadata": {},
   "outputs": [
    {
     "name": "stdout",
     "output_type": "stream",
     "text": [
      "['id', 'pass']\n",
      "['a', '1']\n",
      "['b', '2']\n",
      "['c', '3']\n"
     ]
    }
   ],
   "source": [
    "import csv\n",
    "with open('userinfo.csv', newline='') as csvfile:\n",
    "    csvreader = csv.reader(csvfile, delimiter='\\t')\n",
    "    for row in csvreader:\n",
    "        print(row)\n",
    "        "
   ]
  },
  {
   "cell_type": "code",
   "execution_count": 34,
   "metadata": {},
   "outputs": [
    {
     "name": "stdout",
     "output_type": "stream",
     "text": [
      "id:b, pass:2 로 로그인하였습니다\n"
     ]
    }
   ],
   "source": [
    "id,passWord='b',2\n",
    "chk=0\n",
    "\n",
    "with open('userinfo.csv', newline='') as csvfile:\n",
    "    csvreader = csv.reader(csvfile, delimiter='\\t')\n",
    "    for row in csvreader:\n",
    "        \n",
    "        if id==row[0] and passWord==int(row[1]):\n",
    "            print('id:%s, pass:%d 로 로그인하였습니다'%(id,passWord))\n",
    "            chk=1\n",
    "            break\n",
    "if chk!=1:\n",
    "    print('id:%s, pass:%d 로 로그인 실패하였습니다'%(id,passWord))\n",
    "        \n"
   ]
  },
  {
   "cell_type": "markdown",
   "metadata": {},
   "source": [
    "## [3] 파이썬 변수 이해 (교재 78~115)\n",
    "- 파이썬 변수 작성 규칙\n",
    "    - 키워드*를 사용하면 안 됩니다.\n",
    "    - 특수 문자는 언더 바(_ )만 허용됩니다.\n",
    "    - 숫자로 시작하면 안 됩니다.\n",
    "    - 공백을 포함할 수 없습니다.\n",
    "    - https://hongong.hanbit.co.kr/%ED%8C%8C%EC%9D%B4%EC%8D%AC-%EB%B3%80%EC%88%98%EB%AA%85-%EA%B7%9C%EC%B9%99%EA%B3%BC-%EC%8B%9D%EB%B3%84%EC%9E%90-%EA%B5%AC%EB%B6%84-%EB%B0%A9%EB%B2%95/"
   ]
  },
  {
   "cell_type": "code",
   "execution_count": null,
   "metadata": {},
   "outputs": [],
   "source": []
  }
 ],
 "metadata": {
  "kernelspec": {
   "display_name": "Python 3",
   "language": "python",
   "name": "python3"
  },
  "language_info": {
   "codemirror_mode": {
    "name": "ipython",
    "version": 3
   },
   "file_extension": ".py",
   "mimetype": "text/x-python",
   "name": "python",
   "nbconvert_exporter": "python",
   "pygments_lexer": "ipython3",
   "version": "3.12.0"
  }
 },
 "nbformat": 4,
 "nbformat_minor": 2
}
