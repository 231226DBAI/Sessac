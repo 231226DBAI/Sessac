{
 "cells": [
  {
   "cell_type": "code",
   "execution_count": 16,
   "metadata": {},
   "outputs": [
    {
     "name": "stdout",
     "output_type": "stream",
     "text": [
      "Collecting openpyxl\n",
      "  Downloading openpyxl-3.1.2-py2.py3-none-any.whl (249 kB)\n",
      "     ---------------------------------------- 0.0/250.0 kB ? eta -:--:--\n",
      "     ---- -------------------------------- 30.7/250.0 kB 660.6 kB/s eta 0:00:01\n",
      "     -------------------------------------- 250.0/250.0 kB 3.1 MB/s eta 0:00:00\n",
      "Collecting et-xmlfile (from openpyxl)\n",
      "  Downloading et_xmlfile-1.1.0-py3-none-any.whl (4.7 kB)\n",
      "Installing collected packages: et-xmlfile, openpyxl\n",
      "Successfully installed et-xmlfile-1.1.0 openpyxl-3.1.2\n"
     ]
    }
   ],
   "source": [
    "#!pip install openpyxl"
   ]
  },
  {
   "cell_type": "code",
   "execution_count": 52,
   "metadata": {},
   "outputs": [],
   "source": [
    "def create_variables(file_paths, variable_names):\n",
    "    \"\"\"\n",
    "    파일 경로 리스트와 변수명 리스트를 받아서 변수명을 생성하고 해당 변수에 파일 경로를 할당하는 함수.\n",
    "\n",
    "    Parameters:\n",
    "    - file_paths (list): 파일 경로들을 담은 리스트.\n",
    "    - variable_names (list): 생성할 변수명들을 담은 리스트.\n",
    "\n",
    "    Returns:\n",
    "    - variables (dict): 생성된 변수명과 파일 경로를 담은 딕셔너리.\n",
    "    \"\"\"\n",
    "    variables = {}\n",
    "\n",
    "    for file_path, variable_name in zip(file_paths, variable_names):\n",
    "        # 변수명을 'happy_' + 주어진 변수명으로 설정\n",
    "        variable_name = 'happy_' + variable_name\n",
    "\n",
    "        # 파일 경로를 변수에 할당\n",
    "        variables[variable_name] = file_path\n",
    "\n",
    "    return variables\n"
   ]
  },
  {
   "cell_type": "code",
   "execution_count": 46,
   "metadata": {},
   "outputs": [
    {
     "data": {
      "text/plain": [
       "['C:\\\\Users\\\\bluecom013\\\\Desktop\\\\class\\\\ignore\\\\데이터_분석을_위한_전처리와_시각화_with_파이썬_예제_및_연습_문제\\\\9장\\\\대한민국행복지도_건강.xlsx',\n",
       " 'C:\\\\Users\\\\bluecom013\\\\Desktop\\\\class\\\\ignore\\\\데이터_분석을_위한_전처리와_시각화_with_파이썬_예제_및_연습_문제\\\\9장\\\\대한민국행복지도_경제.xlsx',\n",
       " 'C:\\\\Users\\\\bluecom013\\\\Desktop\\\\class\\\\ignore\\\\데이터_분석을_위한_전처리와_시각화_with_파이썬_예제_및_연습_문제\\\\9장\\\\대한민국행복지도_관계및사회참여.xlsx',\n",
       " 'C:\\\\Users\\\\bluecom013\\\\Desktop\\\\class\\\\ignore\\\\데이터_분석을_위한_전처리와_시각화_with_파이썬_예제_및_연습_문제\\\\9장\\\\대한민국행복지도_교육.xlsx',\n",
       " 'C:\\\\Users\\\\bluecom013\\\\Desktop\\\\class\\\\ignore\\\\데이터_분석을_위한_전처리와_시각화_with_파이썬_예제_및_연습_문제\\\\9장\\\\대한민국행복지도_삶의만족도.xlsx',\n",
       " 'C:\\\\Users\\\\bluecom013\\\\Desktop\\\\class\\\\ignore\\\\데이터_분석을_위한_전처리와_시각화_with_파이썬_예제_및_연습_문제\\\\9장\\\\대한민국행복지도_안전.xlsx',\n",
       " 'C:\\\\Users\\\\bluecom013\\\\Desktop\\\\class\\\\ignore\\\\데이터_분석을_위한_전처리와_시각화_with_파이썬_예제_및_연습_문제\\\\9장\\\\대한민국행복지도_여가.xlsx',\n",
       " 'C:\\\\Users\\\\bluecom013\\\\Desktop\\\\class\\\\ignore\\\\데이터_분석을_위한_전처리와_시각화_with_파이썬_예제_및_연습_문제\\\\9장\\\\대한민국행복지도_환경.xlsx']"
      ]
     },
     "execution_count": 46,
     "metadata": {},
     "output_type": "execute_result"
    }
   ],
   "source": [
    "file_list[:-1]"
   ]
  },
  {
   "cell_type": "code",
   "execution_count": 53,
   "metadata": {},
   "outputs": [
    {
     "ename": "UnicodeDecodeError",
     "evalue": "'utf-8' codec can't decode bytes in position 15-16: invalid continuation byte",
     "output_type": "error",
     "traceback": [
      "\u001b[1;31m---------------------------------------------------------------------------\u001b[0m",
      "\u001b[1;31mUnicodeDecodeError\u001b[0m                        Traceback (most recent call last)",
      "Cell \u001b[1;32mIn[53], line 11\u001b[0m\n\u001b[0;32m      6\u001b[0m file_list\u001b[38;5;241m=\u001b[39mglob(path)\n\u001b[0;32m      7\u001b[0m variable_names \u001b[38;5;241m=\u001b[39m [\u001b[38;5;124m'\u001b[39m\u001b[38;5;124mhealth\u001b[39m\u001b[38;5;124m'\u001b[39m, \u001b[38;5;124m'\u001b[39m\u001b[38;5;124mecono\u001b[39m\u001b[38;5;124m'\u001b[39m, \u001b[38;5;124m'\u001b[39m\u001b[38;5;124mrelation\u001b[39m\u001b[38;5;124m'\u001b[39m, \u001b[38;5;124m'\u001b[39m\u001b[38;5;124medu\u001b[39m\u001b[38;5;124m'\u001b[39m, \u001b[38;5;124m'\u001b[39m\u001b[38;5;124mlife\u001b[39m\u001b[38;5;124m'\u001b[39m, \u001b[38;5;124m'\u001b[39m\u001b[38;5;124msafe\u001b[39m\u001b[38;5;124m'\u001b[39m, \u001b[38;5;124m'\u001b[39m\u001b[38;5;124mleisure\u001b[39m\u001b[38;5;124m'\u001b[39m, \u001b[38;5;124m'\u001b[39m\u001b[38;5;124menviron\u001b[39m\u001b[38;5;124m'\u001b[39m]\n\u001b[1;32m---> 11\u001b[0m result_variables \u001b[38;5;241m=\u001b[39m \u001b[43mcreate_variables\u001b[49m\u001b[43m(\u001b[49m\u001b[43mfile_list\u001b[49m\u001b[43m[\u001b[49m\u001b[43m:\u001b[49m\u001b[38;5;241;43m-\u001b[39;49m\u001b[38;5;241;43m1\u001b[39;49m\u001b[43m]\u001b[49m\u001b[43m,\u001b[49m\u001b[43m \u001b[49m\u001b[43mvariable_names\u001b[49m\u001b[43m)\u001b[49m\n\u001b[0;32m     13\u001b[0m \u001b[38;5;28;01mfor\u001b[39;00m variable_name, content \u001b[38;5;129;01min\u001b[39;00m result_variables\u001b[38;5;241m.\u001b[39mitems():\n\u001b[0;32m     14\u001b[0m     \u001b[38;5;28mprint\u001b[39m(\u001b[38;5;124mf\u001b[39m\u001b[38;5;124m\"\u001b[39m\u001b[38;5;132;01m{\u001b[39;00mvariable_name\u001b[38;5;132;01m}\u001b[39;00m\u001b[38;5;124m: \u001b[39m\u001b[38;5;132;01m{\u001b[39;00mcontent\u001b[38;5;132;01m}\u001b[39;00m\u001b[38;5;124m\"\u001b[39m)\n",
      "Cell \u001b[1;32mIn[52], line 28\u001b[0m, in \u001b[0;36mcreate_variables\u001b[1;34m(file_paths, variable_names)\u001b[0m\n\u001b[0;32m     26\u001b[0m     encoding \u001b[38;5;241m=\u001b[39m result[\u001b[38;5;124m'\u001b[39m\u001b[38;5;124mencoding\u001b[39m\u001b[38;5;124m'\u001b[39m]\n\u001b[0;32m     27\u001b[0m     \u001b[38;5;28;01mwith\u001b[39;00m \u001b[38;5;28mopen\u001b[39m(file_path, \u001b[38;5;124m'\u001b[39m\u001b[38;5;124mr\u001b[39m\u001b[38;5;124m'\u001b[39m, encoding\u001b[38;5;241m=\u001b[39mencoding) \u001b[38;5;28;01mas\u001b[39;00m file:\n\u001b[1;32m---> 28\u001b[0m         variables[variable_name] \u001b[38;5;241m=\u001b[39m \u001b[43mfile\u001b[49m\u001b[38;5;241;43m.\u001b[39;49m\u001b[43mread\u001b[49m\u001b[43m(\u001b[49m\u001b[43m)\u001b[49m\n\u001b[0;32m     30\u001b[0m \u001b[38;5;28;01mreturn\u001b[39;00m variables\n",
      "File \u001b[1;32m<frozen codecs>:322\u001b[0m, in \u001b[0;36mdecode\u001b[1;34m(self, input, final)\u001b[0m\n",
      "\u001b[1;31mUnicodeDecodeError\u001b[0m: 'utf-8' codec can't decode bytes in position 15-16: invalid continuation byte"
     ]
    }
   ],
   "source": [
    "from glob import glob\n",
    "import pandas as pd\n",
    "\n",
    "path = (r\"C:\\Users\\bluecom013\\Desktop\\class\\ignore\\데이터_분석을_위한_전처리와_시각화_with_파이썬_예제_및_연습_문제\\9장\\*.*\")\n",
    "#path=path.replace(\"\\\\\",\"\\\\\\\\\")\n",
    "file_list=glob(path)\n",
    "variable_names = ['health', 'econo', 'relation', 'edu', 'life', 'safe', 'leisure', 'environ']\n",
    "\n",
    "\n",
    "\n",
    "result_variables = create_variables(file_list[:-1], variable_names)\n",
    "\n",
    "for variable_name, content in result_variables.items():\n",
    "    print(f\"{variable_name}: {content}\")"
   ]
  },
  {
   "cell_type": "code",
   "execution_count": null,
   "metadata": {},
   "outputs": [],
   "source": []
  }
 ],
 "metadata": {
  "kernelspec": {
   "display_name": "openai",
   "language": "python",
   "name": "python3"
  },
  "language_info": {
   "codemirror_mode": {
    "name": "ipython",
    "version": 3
   },
   "file_extension": ".py",
   "mimetype": "text/x-python",
   "name": "python",
   "nbconvert_exporter": "python",
   "pygments_lexer": "ipython3",
   "version": "3.12.0"
  }
 },
 "nbformat": 4,
 "nbformat_minor": 2
}
