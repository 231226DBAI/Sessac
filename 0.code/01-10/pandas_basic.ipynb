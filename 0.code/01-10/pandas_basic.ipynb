{
 "cells": [
  {
   "cell_type": "code",
   "execution_count": 49,
   "metadata": {},
   "outputs": [
    {
     "data": {
      "text/plain": [
       "array([['1', '윤경환', '성형석'],\n",
       "       ['2', '김동현', '최재권'],\n",
       "       ['3', '이재범', '주미현'],\n",
       "       ['4', '윤도하', '황지의'],\n",
       "       ['5', '이승환', '박호정'],\n",
       "       ['6', '박주형', '백혜리'],\n",
       "       ['7', '차혁주', '한다연'],\n",
       "       ['8', '김동민', '이예림'],\n",
       "       ['9', '박세웅', '장유미'],\n",
       "       ['10', '우만경', '김태호'],\n",
       "       ['11', '권용희', '유해성'],\n",
       "       ['12', '최지욱', '김현우']], dtype='<U11')"
      ]
     },
     "execution_count": 49,
     "metadata": {},
     "output_type": "execute_result"
    }
   ],
   "source": [
    "data='''\n",
    "\n",
    "윤경환, 성형석,\n",
    "\n",
    "김동현, 최재권,\n",
    "\n",
    "이재범, 주미현,\n",
    "\n",
    "윤도하, 황지의,\n",
    "\n",
    "이승환, 박호정,\n",
    "\n",
    "박주형, 백혜리,\n",
    "\n",
    "차혁주,한다연,\n",
    "\n",
    "김동민, 이예림,\n",
    "\n",
    "박세웅, 장유미,\n",
    "\n",
    "우만경, 김태호,\n",
    "\n",
    "권용희, 유해성,\n",
    "\n",
    "최지욱, 김현우\n",
    "\n",
    "'''\n",
    "\n",
    " \n",
    "\n",
    "data\n",
    "\n",
    " \n",
    "\n",
    "pattern = \"[^ㄱ-ㅎ가-힣,]+\"\n",
    "\n",
    " \n",
    "\n",
    "import re\n",
    "\n",
    "import numpy as np\n",
    "\n",
    "data=re.sub(pattern,'',data)\n",
    "\n",
    "data=data.split(',')\n",
    "\n",
    "dataList=np.reshape(data,(-1,2))\n",
    "\n",
    "bun=list(range(1,len(dataList)+1))\n",
    "\n",
    "bun=np.reshape(bun, (-1,1))\n",
    "\n",
    "result=np.hstack((bun,dataList))\n",
    "\n",
    " \n",
    "\n",
    "result"
   ]
  },
  {
   "cell_type": "code",
   "execution_count": 56,
   "metadata": {},
   "outputs": [
    {
     "name": "stdout",
     "output_type": "stream",
     "text": [
      "<class 'pandas.core.frame.DataFrame'>\n",
      "RangeIndex: 12 entries, 0 to 11\n",
      "Data columns (total 4 columns):\n",
      " #   Column  Non-Null Count  Dtype \n",
      "---  ------  --------------  ----- \n",
      " 0   번호      12 non-null     object\n",
      " 1   조원1     12 non-null     object\n",
      " 2   조원2     12 non-null     object\n",
      " 3   발표시간    12 non-null     int64 \n",
      "dtypes: int64(1), object(3)\n",
      "memory usage: 516.0+ bytes\n"
     ]
    }
   ],
   "source": [
    "import pandas as pd\n",
    "df = pd.DataFrame(result,columns=['번호','조원1','조원2'])\n",
    "시간 = [5,5,5,10,10,5,5,5,3,10,3,5]\n",
    "type(df)\n",
    "type(시간)\n",
    "df['발표시간']=시간\n",
    "df.info()"
   ]
  },
  {
   "cell_type": "code",
   "execution_count": 48,
   "metadata": {},
   "outputs": [
    {
     "ename": "AttributeError",
     "evalue": "'list' object has no attribute 'split'",
     "output_type": "error",
     "traceback": [
      "\u001b[1;31m---------------------------------------------------------------------------\u001b[0m",
      "\u001b[1;31mAttributeError\u001b[0m                            Traceback (most recent call last)",
      "Cell \u001b[1;32mIn[48], line 8\u001b[0m\n\u001b[0;32m      3\u001b[0m \u001b[38;5;66;03m#\\n 제거, ''제거 / 제거: 찾는값, 바꿀값이 ''\u001b[39;00m\n\u001b[0;32m      4\u001b[0m \u001b[38;5;66;03m#한글과 쉼표를 제외한 나머지값 제거\u001b[39;00m\n\u001b[0;32m      7\u001b[0m data_list \u001b[38;5;241m=\u001b[39m []\n\u001b[1;32m----> 8\u001b[0m \u001b[38;5;28;01mfor\u001b[39;00m i \u001b[38;5;129;01min\u001b[39;00m \u001b[43mdata\u001b[49m\u001b[38;5;241;43m.\u001b[39;49m\u001b[43msplit\u001b[49m(\u001b[38;5;124m'\u001b[39m\u001b[38;5;130;01m\\n\u001b[39;00m\u001b[38;5;124m'\u001b[39m):\n\u001b[0;32m     10\u001b[0m     data_list\u001b[38;5;241m.\u001b[39mappend(i)\n\u001b[0;32m     12\u001b[0m \u001b[38;5;28mprint\u001b[39m(data_list)\n",
      "\u001b[1;31mAttributeError\u001b[0m: 'list' object has no attribute 'split'"
     ]
    }
   ],
   "source": [
    "#!pip install pandas\n",
    "import pandas as pd\n",
    "#\\n 제거, ''제거 / 제거: 찾는값, 바꿀값이 ''\n",
    "#한글과 쉼표를 제외한 나머지값 제거\n",
    "\n",
    "\n",
    "data_list = []\n",
    "for i in data.split('\\n'):\n",
    "\n",
    "    data_list.append(i)\n",
    "    \n",
    "print(data_list)\n",
    "df=pd.DataFrame(data_list)\n",
    "print(df)"
   ]
  },
  {
   "cell_type": "code",
   "execution_count": 39,
   "metadata": {},
   "outputs": [],
   "source": [
    "import numpy as np\n",
    "\n",
    "data[:3], np.shape(data)\n",
    "data = data.split(',')\n",
    "#data[:3]"
   ]
  },
  {
   "cell_type": "code",
   "execution_count": 40,
   "metadata": {},
   "outputs": [
    {
     "name": "stdout",
     "output_type": "stream",
     "text": [
      "['\\n윤경환', ' 성형석', '\\n김동현', ' 최재권', '\\n이재범', ' 주미현', '\\n윤도하', ' 황지의', '\\n이승환', ' 박호정', '\\n박주형', ' 백혜리', '\\n차혁주', '한다연', '\\n김동민', ' 이예림', '\\n박세웅', ' 장유미', '\\n우만경', ' 김태호', '\\n권용희', ' 유해성', '\\n최지욱', ' 김현우\\n']\n",
      "[['\\n윤경환' ' 성형석']\n",
      " ['\\n김동현' ' 최재권']\n",
      " ['\\n이재범' ' 주미현']\n",
      " ['\\n윤도하' ' 황지의']\n",
      " ['\\n이승환' ' 박호정']\n",
      " ['\\n박주형' ' 백혜리']\n",
      " ['\\n차혁주' '한다연']\n",
      " ['\\n김동민' ' 이예림']\n",
      " ['\\n박세웅' ' 장유미']\n",
      " ['\\n우만경' ' 김태호']\n",
      " ['\\n권용희' ' 유해성']\n",
      " ['\\n최지욱' ' 김현우\\n']]\n"
     ]
    }
   ],
   "source": [
    "\n",
    "dataList=np.reshape(data,(-1,2))\n",
    "print(dataList)"
   ]
  },
  {
   "cell_type": "code",
   "execution_count": 45,
   "metadata": {},
   "outputs": [
    {
     "name": "stdout",
     "output_type": "stream",
     "text": [
      "[[ 1]\n",
      " [ 2]\n",
      " [ 3]\n",
      " [ 4]\n",
      " [ 5]\n",
      " [ 6]\n",
      " [ 7]\n",
      " [ 8]\n",
      " [ 9]\n",
      " [10]\n",
      " [11]\n",
      " [12]]\n"
     ]
    }
   ],
   "source": [
    "bun = np.array(list(range(1,len(dataList)+1)))\n",
    "bun = bun.reshape(-1,1)\n",
    "print(bun)"
   ]
  },
  {
   "cell_type": "code",
   "execution_count": 47,
   "metadata": {},
   "outputs": [
    {
     "data": {
      "text/plain": [
       "array([['1', '\\n윤경환', ' 성형석'],\n",
       "       ['2', '\\n김동현', ' 최재권'],\n",
       "       ['3', '\\n이재범', ' 주미현'],\n",
       "       ['4', '\\n윤도하', ' 황지의'],\n",
       "       ['5', '\\n이승환', ' 박호정'],\n",
       "       ['6', '\\n박주형', ' 백혜리'],\n",
       "       ['7', '\\n차혁주', '한다연'],\n",
       "       ['8', '\\n김동민', ' 이예림'],\n",
       "       ['9', '\\n박세웅', ' 장유미'],\n",
       "       ['10', '\\n우만경', ' 김태호'],\n",
       "       ['11', '\\n권용희', ' 유해성'],\n",
       "       ['12', '\\n최지욱', ' 김현우\\n']], dtype='<U11')"
      ]
     },
     "execution_count": 47,
     "metadata": {},
     "output_type": "execute_result"
    }
   ],
   "source": [
    "result = np.hstack((bun,dataList))\n",
    "result"
   ]
  },
  {
   "cell_type": "code",
   "execution_count": 16,
   "metadata": {},
   "outputs": [
    {
     "data": {
      "text/plain": [
       "[['\\n', '윤'],\n",
       " ['경', '환'],\n",
       " [',', ' '],\n",
       " ['성', '형'],\n",
       " ['석', '\\n'],\n",
       " ['김', '동'],\n",
       " ['현', ','],\n",
       " [' ', '최'],\n",
       " ['재', '권'],\n",
       " ['\\n', '이'],\n",
       " ['재', '범'],\n",
       " [',', ' '],\n",
       " ['주', '미'],\n",
       " ['현', '\\n'],\n",
       " ['윤', '도'],\n",
       " ['하', ','],\n",
       " [' ', '황'],\n",
       " ['지', '의'],\n",
       " ['\\n', '이'],\n",
       " ['승', '환'],\n",
       " [',', ' '],\n",
       " ['박', '호'],\n",
       " ['정', '\\n'],\n",
       " ['박', '주'],\n",
       " ['형', ','],\n",
       " [' ', '백'],\n",
       " ['혜', '리'],\n",
       " ['\\n', '차'],\n",
       " ['혁', '주'],\n",
       " [',', '한'],\n",
       " ['다', '연'],\n",
       " ['\\n', '김'],\n",
       " ['동', '민'],\n",
       " [',', ' '],\n",
       " ['이', '예'],\n",
       " ['림', '\\n'],\n",
       " ['박', '세'],\n",
       " ['웅', ','],\n",
       " [' ', '장'],\n",
       " ['유', '미'],\n",
       " ['\\n', '우'],\n",
       " ['만', '경'],\n",
       " [',', ' '],\n",
       " ['김', '태'],\n",
       " ['호', '\\n'],\n",
       " ['권', '용'],\n",
       " ['희', ','],\n",
       " [' ', '유'],\n",
       " ['해', '성'],\n",
       " ['\\n', '최'],\n",
       " ['지', '욱'],\n",
       " [',', ' '],\n",
       " ['김', '현'],\n",
       " ['우', '\\n']]"
      ]
     },
     "execution_count": 16,
     "metadata": {},
     "output_type": "execute_result"
    }
   ],
   "source": [
    "nameList=[]\n",
    "for cnt,name in enumerate(data):\n",
    "    if cnt%2 ==0:\n",
    "        nameList.append([])\n",
    "    nameList[-1].append(name)\n",
    "nameList"
   ]
  },
  {
   "cell_type": "code",
   "execution_count": 59,
   "metadata": {},
   "outputs": [
    {
     "name": "stdout",
     "output_type": "stream",
     "text": [
      "C:\\\\Users\\\\bluecom013\\\\Desktop\\\\class\\\\ignore\\\\데이터_분석을_위한_전처리와_시각화_with_파이썬_예제_및_연습_문제\\\\5장\\weather.csv\n"
     ]
    }
   ],
   "source": [
    "from glob import glob\n",
    "import os\n",
    "csv_list=glob(r'C:\\\\Users\\\\bluecom013\\\\Desktop\\\\class\\\\ignore\\\\데이터_분석을_위한_전처리와_시각화_with_파이썬_예제_및_연습_문제\\\\5장\\\\*.*')\n",
    "data = csv_list[-3]\n"
   ]
  }
 ],
 "metadata": {
  "kernelspec": {
   "display_name": "openai",
   "language": "python",
   "name": "python3"
  },
  "language_info": {
   "codemirror_mode": {
    "name": "ipython",
    "version": 3
   },
   "file_extension": ".py",
   "mimetype": "text/x-python",
   "name": "python",
   "nbconvert_exporter": "python",
   "pygments_lexer": "ipython3",
   "version": "3.12.0"
  }
 },
 "nbformat": 4,
 "nbformat_minor": 2
}
