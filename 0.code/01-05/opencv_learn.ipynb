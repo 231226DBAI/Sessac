{
 "cells": [
  {
   "cell_type": "code",
   "execution_count": 7,
   "metadata": {},
   "outputs": [
    {
     "ename": "error",
     "evalue": "OpenCV(4.9.0) D:\\a\\opencv-python\\opencv-python\\opencv\\modules\\highgui\\src\\window.cpp:971: error: (-215:Assertion failed) size.width>0 && size.height>0 in function 'cv::imshow'\n",
     "output_type": "error",
     "traceback": [
      "\u001b[1;31m---------------------------------------------------------------------------\u001b[0m",
      "\u001b[1;31merror\u001b[0m                                     Traceback (most recent call last)",
      "Cell \u001b[1;32mIn[7], line 36\u001b[0m\n\u001b[0;32m     31\u001b[0m mouse_class \u001b[38;5;241m=\u001b[39m MouseGesture()\n\u001b[0;32m     32\u001b[0m param \u001b[38;5;241m=\u001b[39m {\n\u001b[0;32m     33\u001b[0m     \u001b[38;5;124m\"\u001b[39m\u001b[38;5;124mimage\u001b[39m\u001b[38;5;124m\"\u001b[39m : image,\n\u001b[0;32m     34\u001b[0m     \u001b[38;5;124m\"\u001b[39m\u001b[38;5;124mwindow_name\u001b[39m\u001b[38;5;124m\"\u001b[39m : window_name\n\u001b[0;32m     35\u001b[0m }\n\u001b[1;32m---> 36\u001b[0m \u001b[43mcv2\u001b[49m\u001b[38;5;241;43m.\u001b[39;49m\u001b[43mimshow\u001b[49m\u001b[43m(\u001b[49m\u001b[43mwindow_name\u001b[49m\u001b[43m,\u001b[49m\u001b[43m \u001b[49m\u001b[43mimage\u001b[49m\u001b[43m)\u001b[49m\n\u001b[0;32m     37\u001b[0m cv2\u001b[38;5;241m.\u001b[39msetMouseCallback(window_name, mouse_class\u001b[38;5;241m.\u001b[39mon_mouse, param\u001b[38;5;241m=\u001b[39mparam)\n\u001b[0;32m     38\u001b[0m cv2\u001b[38;5;241m.\u001b[39mwaitKey(\u001b[38;5;241m0\u001b[39m)\n",
      "\u001b[1;31merror\u001b[0m: OpenCV(4.9.0) D:\\a\\opencv-python\\opencv-python\\opencv\\modules\\highgui\\src\\window.cpp:971: error: (-215:Assertion failed) size.width>0 && size.height>0 in function 'cv::imshow'\n"
     ]
    }
   ],
   "source": [
    "import cv2 \n",
    "import numpy as np \n",
    "\n",
    "class MouseGesture():\n",
    "    def __init__(self) -> None:\n",
    "        self.is_dragging = False \n",
    "        # 마우스 위치 값 임시 저장을 위한 변수 \n",
    "        self.x0, self.y0, self.w0, self.h0 = -1,-1,-1,-1\n",
    "\n",
    "    def on_mouse(self, event, x, y, flags, param):\n",
    "        if event == cv2.EVENT_LBUTTONDOWN:\n",
    "            self.x0 = x\n",
    "            self.y0 = y\n",
    "            self.is_dragging = True\n",
    "            print(\"사각형의 시작 좌표는 x : {} y : {}\".format(x,y) )\n",
    "        elif event == cv2.EVENT_LBUTTONUP:\n",
    "            self.is_dragging = False\n",
    "            cv2.rectangle(param['image'], (self.x0, self.y0), (x,y),(0,0,255),2)            \n",
    "            cv2.imshow(param['window_name'], param['image'])\n",
    "            print(\"사각형의 좌표는 ({}, {}), ({}, {})\".format(self.x0,self.y0,x,y) )\n",
    "        elif event == cv2.EVENT_MOUSEMOVE:\n",
    "            if self.is_dragging:\n",
    "                temp_img = param['image'].copy()\n",
    "                cv2.rectangle(temp_img, (self.x0, self.y0), (x,y),(0,0,255),2)            \n",
    "                cv2.imshow(param['window_name'], temp_img)\n",
    "        return \n",
    "\n",
    "\n",
    "image = cv2.imread(r'C:\\\\Users\\\\bluecom013\\\\Desktop\\\\class\\\\2024_01_04~05 강의자료\\\\sample.jpg')\n",
    "window_name = 'mouse_callback'\n",
    "mouse_class = MouseGesture()\n",
    "param = {\n",
    "    \"image\" : image,\n",
    "    \"window_name\" : window_name\n",
    "}\n",
    "cv2.imshow(window_name, image)\n",
    "cv2.setMouseCallback(window_name, mouse_class.on_mouse, param=param)\n",
    "cv2.waitKey(0)\n"
   ]
  },
  {
   "cell_type": "code",
   "execution_count": 14,
   "metadata": {},
   "outputs": [],
   "source": [
    "import cv2\n",
    "import numpy as np\n",
    "img=np.full((300,300,3),255,dtype=np.uint8)\n",
    "\n",
    "img=np.zeros((300,300,3), dtype=np.uint8)\n",
    "\n",
    "img[:,:,:] = 255\n",
    "\n",
    "title = \"Mouse Evenet\"\n"
   ]
  },
  {
   "cell_type": "code",
   "execution_count": 15,
   "metadata": {},
   "outputs": [
    {
     "data": {
      "text/plain": [
       "<matplotlib.image.AxesImage at 0x2966412ccb0>"
      ]
     },
     "execution_count": 15,
     "metadata": {},
     "output_type": "execute_result"
    },
    {
     "data": {
      "image/png": "[encoded data removed]",
      "text/plain": [
       "<Figure size 640x480 with 1 Axes>"
      ]
     },
     "metadata": {},
     "output_type": "display_data"
    }
   ],
   "source": [
    "\n",
    "cv2.circle(img,150,)\n",
    "import matplotlib.pyplot as plt\n",
    "plt.imshow(img)"
   ]
  },
  {
   "cell_type": "code",
   "execution_count": 16,
   "metadata": {},
   "outputs": [
    {
     "ename": "KeyboardInterrupt",
     "evalue": "",
     "output_type": "error",
     "traceback": [
      "\u001b[1;31m---------------------------------------------------------------------------\u001b[0m",
      "\u001b[1;31mKeyboardInterrupt\u001b[0m                         Traceback (most recent call last)",
      "Cell \u001b[1;32mIn[16], line 25\u001b[0m\n\u001b[0;32m     22\u001b[0m cv2\u001b[38;5;241m.\u001b[39mimshow(\u001b[38;5;124m\"\u001b[39m\u001b[38;5;124mDrawing Canvas\u001b[39m\u001b[38;5;124m\"\u001b[39m, canvas)\n\u001b[0;32m     24\u001b[0m \u001b[38;5;66;03m# ESC 키를 누르면 종료\u001b[39;00m\n\u001b[1;32m---> 25\u001b[0m key \u001b[38;5;241m=\u001b[39m \u001b[43mcv2\u001b[49m\u001b[38;5;241;43m.\u001b[39;49m\u001b[43mwaitKey\u001b[49m\u001b[43m(\u001b[49m\u001b[38;5;241;43m1\u001b[39;49m\u001b[43m)\u001b[49m \u001b[38;5;241m&\u001b[39m \u001b[38;5;241m0xFF\u001b[39m\n\u001b[0;32m     26\u001b[0m \u001b[38;5;28;01mif\u001b[39;00m key \u001b[38;5;241m==\u001b[39m \u001b[38;5;241m27\u001b[39m:\n\u001b[0;32m     27\u001b[0m     \u001b[38;5;28;01mbreak\u001b[39;00m\n",
      "\u001b[1;31mKeyboardInterrupt\u001b[0m: "
     ]
    },
    {
     "ename": "",
     "evalue": "",
     "output_type": "error",
     "traceback": [
      "\u001b[1;31mThe Kernel crashed while executing code in the the current cell or a previous cell. Please review the code in the cell(s) to identify a possible cause of the failure. Click <a href='https://aka.ms/vscodeJupyterKernelCrash'>here</a> for more info. View Jupyter <a href='command:jupyter.viewOutput'>log</a> for further details."
     ]
    }
   ],
   "source": [
    "import cv2\n",
    "import numpy as np\n",
    "\n",
    "# 캔버스 초기화\n",
    "canvas = np.zeros((300, 300, 3), dtype=\"uint8\")\n",
    "\n",
    "# 마우스 이벤트 처리 함수\n",
    "def draw_circle(event, x, y, flags, param):\n",
    "    global canvas\n",
    "\n",
    "    if event == cv2.EVENT_LBUTTONDOWN:\n",
    "        # 왼쪽 마우스 버튼 클릭 시 빨간색 원 그리기\n",
    "        cv2.circle(canvas, (x, y), 20, (0, 0, 255), -1)\n",
    "\n",
    "# OpenCV 창 생성 및 마우스 이벤트 콜백 함수 등록\n",
    "cv2.namedWindow(\"Drawing Canvas\")\n",
    "cv2.setMouseCallback(\"Drawing Canvas\", draw_circle)\n",
    "\n",
    "# 메인 루프\n",
    "while True:\n",
    "    # 캔버스를 OpenCV 창에 표시\n",
    "    cv2.imshow(\"Drawing Canvas\", canvas)\n",
    "\n",
    "    # ESC 키를 누르면 종료\n",
    "    key = cv2.waitKey(1) & 0xFF\n",
    "    if key == 27:\n",
    "        break\n",
    "\n",
    "# OpenCV 창 닫기\n",
    "cv2.destroyAllWindows()\n"
   ]
  },
  {
   "cell_type": "code",
   "execution_count": 6,
   "metadata": {},
   "outputs": [
    {
     "name": "stdout",
     "output_type": "stream",
     "text": [
      "337 169\n"
     ]
    },
    {
     "ename": "error",
     "evalue": "OpenCV(4.9.0) D:\\a\\opencv-python\\opencv-python\\opencv\\modules\\imgproc\\src\\resize.cpp:4152: error: (-215:Assertion failed) !ssize.empty() in function 'cv::resize'\n",
     "output_type": "error",
     "traceback": [
      "\u001b[1;31m---------------------------------------------------------------------------\u001b[0m",
      "\u001b[1;31merror\u001b[0m                                     Traceback (most recent call last)",
      "Cell \u001b[1;32mIn[6], line 16\u001b[0m, in \u001b[0;36mdraw_rectangle\u001b[1;34m(event, x, y, flags, param)\u001b[0m\n\u001b[0;32m     13\u001b[0m bottom_right_pt \u001b[38;5;241m=\u001b[39m (x, y)\n\u001b[0;32m     15\u001b[0m \u001b[38;5;66;03m# 드래그한 영역에 모자이크 적용\u001b[39;00m\n\u001b[1;32m---> 16\u001b[0m \u001b[43mapply_mosaic\u001b[49m\u001b[43m(\u001b[49m\u001b[43m)\u001b[49m\n",
      "Cell \u001b[1;32mIn[6], line 29\u001b[0m, in \u001b[0;36mapply_mosaic\u001b[1;34m()\u001b[0m\n\u001b[0;32m     26\u001b[0m roi \u001b[38;5;241m=\u001b[39m img[y:y\u001b[38;5;241m+\u001b[39mh, x:x\u001b[38;5;241m+\u001b[39mw]\n\u001b[0;32m     28\u001b[0m \u001b[38;5;66;03m# 모자이크 처리\u001b[39;00m\n\u001b[1;32m---> 29\u001b[0m roi \u001b[38;5;241m=\u001b[39m \u001b[43mcv2\u001b[49m\u001b[38;5;241;43m.\u001b[39;49m\u001b[43mresize\u001b[49m\u001b[43m(\u001b[49m\u001b[43mroi\u001b[49m\u001b[43m,\u001b[49m\u001b[43m \u001b[49m\u001b[43m(\u001b[49m\u001b[43mw\u001b[49m\u001b[43m \u001b[49m\u001b[38;5;241;43m/\u001b[39;49m\u001b[38;5;241;43m/\u001b[39;49m\u001b[43m \u001b[49m\u001b[38;5;241;43m3\u001b[39;49m\u001b[43m,\u001b[49m\u001b[43m \u001b[49m\u001b[43mh\u001b[49m\u001b[43m \u001b[49m\u001b[38;5;241;43m/\u001b[39;49m\u001b[38;5;241;43m/\u001b[39;49m\u001b[43m \u001b[49m\u001b[38;5;241;43m3\u001b[39;49m\u001b[43m)\u001b[49m\u001b[43m,\u001b[49m\u001b[43m \u001b[49m\u001b[43minterpolation\u001b[49m\u001b[38;5;241;43m=\u001b[39;49m\u001b[43mcv2\u001b[49m\u001b[38;5;241;43m.\u001b[39;49m\u001b[43mINTER_NEAREST\u001b[49m\u001b[43m)\u001b[49m\n\u001b[0;32m     30\u001b[0m roi \u001b[38;5;241m=\u001b[39m cv2\u001b[38;5;241m.\u001b[39mresize(roi, (w, h), interpolation\u001b[38;5;241m=\u001b[39mcv2\u001b[38;5;241m.\u001b[39mINTER_AREA)\n\u001b[0;32m     32\u001b[0m \u001b[38;5;66;03m# 원본 이미지에 모자이크된 부분 적용\u001b[39;00m\n",
      "\u001b[1;31merror\u001b[0m: OpenCV(4.9.0) D:\\a\\opencv-python\\opencv-python\\opencv\\modules\\imgproc\\src\\resize.cpp:4152: error: (-215:Assertion failed) !ssize.empty() in function 'cv::resize'\n"
     ]
    },
    {
     "name": "stdout",
     "output_type": "stream",
     "text": [
      "223 46\n",
      "326 110\n",
      "413 90\n",
      "367 272\n"
     ]
    }
   ],
   "source": [
    "import cv2\n",
    "\n",
    "# 마우스 이벤트 처리 함수\n",
    "def draw_rectangle(event, x, y, flags, param):\n",
    "    global drawing, top_left_pt, bottom_right_pt\n",
    "\n",
    "    if event == cv2.EVENT_LBUTTONDOWN:\n",
    "        drawing = True\n",
    "        top_left_pt = (x, y)\n",
    "\n",
    "    elif event == cv2.EVENT_LBUTTONUP:\n",
    "        drawing = False\n",
    "        bottom_right_pt = (x, y)\n",
    "\n",
    "        # 드래그한 영역에 모자이크 적용\n",
    "        apply_mosaic()\n",
    "\n",
    "# 모자이크 적용 함수\n",
    "def apply_mosaic():\n",
    "    global img, top_left_pt, bottom_right_pt\n",
    "\n",
    "    if top_left_pt and bottom_right_pt:\n",
    "        x, y, w, h = top_left_pt[0], top_left_pt[1], bottom_right_pt[0] - top_left_pt[0], bottom_right_pt[1] - top_left_pt[1]\n",
    "\n",
    "        # 선택한 영역을 추출\n",
    "        roi = img[y:y+h, x:x+w]\n",
    "\n",
    "        # 모자이크 처리\n",
    "        roi = cv2.resize(roi, (w // 3, h // 3), interpolation=cv2.INTER_NEAREST)\n",
    "        roi = cv2.resize(roi, (w, h), interpolation=cv2.INTER_AREA)\n",
    "\n",
    "        # 원본 이미지에 모자이크된 부분 적용\n",
    "        img[y:y+h, x:x+w] = roi\n",
    "        print(w,h)\n",
    "        # 선택한 영역 초기화\n",
    "        top_left_pt, bottom_right_pt = None, None\n",
    "\n",
    "# 초기화\n",
    "drawing = False\n",
    "top_left_pt, bottom_right_pt = None, None\n",
    "\n",
    "# 이미지 로드\n",
    "img = cv2.imread('dog.jpg')\n",
    "\n",
    "if img is None:\n",
    "    print(\"Failed to load the image.\")\n",
    "    exit()\n",
    "\n",
    "# 창 생성 및 마우스 이벤트 등록\n",
    "cv2.namedWindow('Mosaic Application')\n",
    "cv2.setMouseCallback('Mosaic Application', draw_rectangle)\n",
    "\n",
    "# 메인 루프\n",
    "while True:\n",
    "    # 이미지 표시\n",
    "    cv2.imshow('Mosaic Application', img)\n",
    "\n",
    "    # ESC 키를 누르면 종료\n",
    "    key = cv2.waitKey(1) & 0xFF\n",
    "    if key == 27:\n",
    "        break\n",
    "\n",
    "# 창 닫기\n",
    "cv2.destroyAllWindows()\n"
   ]
  }
 ],
 "metadata": {
  "kernelspec": {
   "display_name": "openai",
   "language": "python",
   "name": "python3"
  },
  "language_info": {
   "codemirror_mode": {
    "name": "ipython",
    "version": 3
   },
   "file_extension": ".py",
   "mimetype": "text/x-python",
   "name": "python",
   "nbconvert_exporter": "python",
   "pygments_lexer": "ipython3",
   "version": "3.12.0"
  }
 },
 "nbformat": 4,
 "nbformat_minor": 2
}
