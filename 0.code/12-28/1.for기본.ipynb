{
 "cells": [
  {
   "cell_type": "code",
   "execution_count": 3,
   "metadata": {},
   "outputs": [
    {
     "name": "stdout",
     "output_type": "stream",
     "text": [
      "0\n",
      "1\n",
      "2\n",
      "3\n",
      "1\n",
      "2\n",
      "3\n",
      "3\n"
     ]
    }
   ],
   "source": [
    "a=[1,2,3,3]\n",
    "\n",
    "#비추천 len(a) 에서 숫자 세기 + range 에서 list 생성\n",
    "for i in range(len(a)):\n",
    "    print(i)\n",
    "\n",
    "#추천 list를 객체화\n",
    "for i in a:\n",
    "    print(i)\n",
    "\n",
    "\n"
   ]
  },
  {
   "cell_type": "code",
   "execution_count": 31,
   "metadata": {},
   "outputs": [
    {
     "name": "stdout",
     "output_type": "stream",
     "text": [
      "26/31/28/31/2/4/"
     ]
    }
   ],
   "source": [
    "import random\n",
    "\n",
    "#복원추출, 비복원추출\n",
    "\n",
    "for i in range(6):\n",
    "    num = random.randrange(1,46) # 복원추출\n",
    "    print(num,end='/')\n"
   ]
  },
  {
   "cell_type": "code",
   "execution_count": 11,
   "metadata": {},
   "outputs": [
    {
     "name": "stdout",
     "output_type": "stream",
     "text": [
      "['가', '나', '다', '라', '마', '바']\n",
      "1 번 월 ==> 마\n",
      "2 번 화 ==> 마\n",
      "3 번 수 ==> 가\n",
      "4 번 목 ==> 라\n",
      "5 번 금 ==> 나\n"
     ]
    }
   ],
   "source": [
    "import random\n",
    "\n",
    "name = '가,나,다,라,마,바'\n",
    "nameList = name.split(',')\n",
    "print(nameList)\n",
    "dayList='월,화,수,목,금'.split(',')\n",
    "#nameLen = len(nameList)\n",
    "\n",
    "\n",
    "#emuerate 는 자동으로 0,1,2,3 ... 숫자값을 가지게 됨\n",
    "for cnt,i in enumerate(dayList):\n",
    "    namePrn=random.choice(nameList)\n",
    "    print(cnt+1 ,'번', i,'==>',namePrn)"
   ]
  },
  {
   "cell_type": "code",
   "execution_count": 12,
   "metadata": {},
   "outputs": [
    {
     "name": "stdout",
     "output_type": "stream",
     "text": [
      "['가', '나', '다', '라', '마', '바']\n",
      "월 ==> 다\n",
      "화 ==> 마\n",
      "수 ==> 바\n",
      "목 ==> 나\n",
      "금 ==> 라\n"
     ]
    }
   ],
   "source": [
    "name = '가,나,다,라,마,바'\n",
    "nameList = name.split(',')\n",
    "print(nameList)\n",
    "\n",
    "dayList = '월,화,수,목,금'.split(',')\n",
    "\n",
    "# Check if the number of names is greater than or equal to the number of days\n",
    "if len(nameList) >= len(dayList):\n",
    "    sampled_names = random.sample(nameList, len(dayList))\n",
    "\n",
    "    for day, sampled_name in zip(dayList, sampled_names):\n",
    "        print(day, '==>', sampled_name)\n",
    "else:\n",
    "    print(\"Error: Not enough names for each day.\")"
   ]
  },
  {
   "cell_type": "code",
   "execution_count": 11,
   "metadata": {},
   "outputs": [
    {
     "name": "stdout",
     "output_type": "stream",
     "text": [
      "[[1 2 3]\n",
      " [5 6 7]]\n",
      "[1 2 3 4]\n",
      "[[1 2 3]\n",
      " [5 6 7]]\n"
     ]
    }
   ],
   "source": [
    "import numpy as np\n",
    "\n",
    "# Create an initial NumPy array\n",
    "arr = np.array([[1, 2, 3],[5,6,7]])\n",
    "\n",
    "print(arr)\n",
    "\n",
    "# Append a scalar element\n",
    "print(np.append(arr[0], 4))\n",
    "\n",
    "\n",
    "list_a = [[1,2,3],[5,6,7]]\n",
    "\n",
    "print(arr)\n"
   ]
  },
  {
   "cell_type": "code",
   "execution_count": 12,
   "metadata": {},
   "outputs": [
    {
     "ename": "AttributeError",
     "evalue": "'list' object has no attribute 'shape'",
     "output_type": "error",
     "traceback": [
      "\u001b[1;31m---------------------------------------------------------------------------\u001b[0m",
      "\u001b[1;31mAttributeError\u001b[0m                            Traceback (most recent call last)",
      "Cell \u001b[1;32mIn[12], line 4\u001b[0m\n\u001b[0;32m      1\u001b[0m arr\u001b[38;5;241m.\u001b[39mshape\n\u001b[1;32m----> 4\u001b[0m \u001b[43mlist_a\u001b[49m\u001b[38;5;241;43m.\u001b[39;49m\u001b[43mshape\u001b[49m\n",
      "\u001b[1;31mAttributeError\u001b[0m: 'list' object has no attribute 'shape'"
     ]
    }
   ],
   "source": [
    "arr.shape\n",
    "\n",
    "\n",
    "list_a.shape"
   ]
  }
 ],
 "metadata": {
  "kernelspec": {
   "display_name": "openai",
   "language": "python",
   "name": "python3"
  },
  "language_info": {
   "codemirror_mode": {
    "name": "ipython",
    "version": 3
   },
   "file_extension": ".py",
   "mimetype": "text/x-python",
   "name": "python",
   "nbconvert_exporter": "python",
   "pygments_lexer": "ipython3",
   "version": "3.12.0"
  }
 },
 "nbformat": 4,
 "nbformat_minor": 2
}
